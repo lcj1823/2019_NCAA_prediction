{
 "cells": [
  {
   "cell_type": "code",
   "execution_count": 1,
   "metadata": {},
   "outputs": [],
   "source": [
    "%matplotlib inline\n",
    "import matplotlib.pyplot as plt\n",
    "plt.style.use('ggplot')\n",
    "\n",
    "import numpy as np\n",
    "import pandas as pd\n",
    "from sklearn.externals import joblib\n",
    "from sklearn.model_selection import train_test_split\n",
    "from sklearn.linear_model import LogisticRegression\n",
    "from sklearn.metrics import (auc, classification_report, roc_auc_score, accuracy_score,\n",
    "                             f1_score, log_loss, roc_curve, confusion_matrix, precision_score, recall_score)\n",
    "from sklearn.preprocessing import StandardScaler\n",
    "from math import sin, cos, sqrt, atan2, radians\n",
    "import random\n",
    "import statsmodels.api as sm"
   ]
  },
  {
   "cell_type": "code",
   "execution_count": 2,
   "metadata": {},
   "outputs": [],
   "source": [
    "def distance(lat1, lon1, lat2, lon2):\n",
    "\n",
    "    # approximate radius of earth in km\n",
    "    R = 6373.0\n",
    "\n",
    "    lat1 = radians(lat1)\n",
    "    lon1 = radians(lon1)\n",
    "    lat2 = radians(lat2)\n",
    "    lon2 = radians(lon2)\n",
    "\n",
    "    dlon = lon2 - lon1\n",
    "    dlat = lat2 - lat1\n",
    "\n",
    "    a = sin(dlat / 2)**2 + cos(lat1) * cos(lat2) * sin(dlon / 2)**2\n",
    "    c = 2 * atan2(sqrt(a), sqrt(1 - a))\n",
    "\n",
    "    distance = R * c\n",
    "    \n",
    "    return distance"
   ]
  },
  {
   "cell_type": "code",
   "execution_count": 3,
   "metadata": {},
   "outputs": [
    {
     "data": {
      "text/plain": [
       "1107    10.9\n",
       "1108    13.7\n",
       "1109    14.1\n",
       "1110     3.5\n",
       "1111    15.8\n",
       "Name: Team2_BPI, dtype: float64"
      ]
     },
     "execution_count": 3,
     "metadata": {},
     "output_type": "execute_result"
    }
   ],
   "source": [
    "mm_data = pd.read_excel('BPI.xlsx')\n",
    "\n",
    "mm_data['Team2_BPI'].tail()"
   ]
  },
  {
   "cell_type": "code",
   "execution_count": 4,
   "metadata": {},
   "outputs": [
    {
     "data": {
      "text/plain": [
       "Index(['team1_id', 'team1_score', 'team2_id', 'team2_score', 'WLoc', 'num_ot',\n",
       "       'team1_position', 'team2_position', 'team1_seed', 'team2_seed',\n",
       "       ...\n",
       "       'team1_de', 'team1_adjde', 'team2_tempo', 'team2_adjtempo', 'team2_oe',\n",
       "       'team2_adjoe', 'team2_de', 'team2_adjde', 'game_id', 'result'],\n",
       "      dtype='object', length=107)"
      ]
     },
     "execution_count": 4,
     "metadata": {},
     "output_type": "execute_result"
    }
   ],
   "source": [
    "#get columns\n",
    "\n",
    "mm_data.columns"
   ]
  },
  {
   "cell_type": "code",
   "execution_count": 5,
   "metadata": {},
   "outputs": [],
   "source": [
    "#feature transformation of distance\n",
    "\n",
    "mm_data['dist1'] = mm_data.apply(lambda row: distance(row['host_lat'], row['host_long'], row['team1_lat'], row['team1_long']), axis=1)\n",
    "mm_data['dist2'] = mm_data.apply(lambda row: distance(row['host_lat'], row['host_long'], row['team2_lat'], row['team2_long']), axis=1)"
   ]
  },
  {
   "cell_type": "code",
   "execution_count": 6,
   "metadata": {},
   "outputs": [],
   "source": [
    "mm_data['diff_dist'] = mm_data['dist1'] - mm_data['dist2']"
   ]
  },
  {
   "cell_type": "code",
   "execution_count": 7,
   "metadata": {},
   "outputs": [],
   "source": [
    "###E(W%) = points scored^11.5 / (points scored^11.5+points allowed^11.5)\n",
    "\n",
    "mm_data['exp_win1'] = (mm_data['team1_adjoe']**11.5)/ ((mm_data['team1_adjde']**11.5)+(mm_data['team1_adjoe']**11.5))\n",
    "mm_data['exp_win2'] = (mm_data['team2_adjoe']**11.5)/ ((mm_data['team2_adjde']**11.5)+(mm_data['team2_adjoe']**11.5))"
   ]
  },
  {
   "cell_type": "code",
   "execution_count": 8,
   "metadata": {},
   "outputs": [],
   "source": [
    "####P(W) = (A - A B) / (A + B - 2A*B)\n",
    "mm_data['team1_log5'] = (mm_data['exp_win1'] - (mm_data['exp_win1']*mm_data['exp_win2']))/ (mm_data['exp_win1']+mm_data['exp_win2']-(2*mm_data['exp_win1']*mm_data['exp_win2']))"
   ]
  },
  {
   "cell_type": "code",
   "execution_count": 9,
   "metadata": {},
   "outputs": [
    {
     "data": {
      "text/html": [
       "<div>\n",
       "<style scoped>\n",
       "    .dataframe tbody tr th:only-of-type {\n",
       "        vertical-align: middle;\n",
       "    }\n",
       "\n",
       "    .dataframe tbody tr th {\n",
       "        vertical-align: top;\n",
       "    }\n",
       "\n",
       "    .dataframe thead th {\n",
       "        text-align: right;\n",
       "    }\n",
       "</style>\n",
       "<table border=\"1\" class=\"dataframe\">\n",
       "  <thead>\n",
       "    <tr style=\"text-align: right;\">\n",
       "      <th></th>\n",
       "      <th>team1_adjoe</th>\n",
       "      <th>team1_teamname</th>\n",
       "      <th>Team1_BPI</th>\n",
       "      <th>season</th>\n",
       "      <th>team2_teamname</th>\n",
       "      <th>Team2_BPI</th>\n",
       "      <th>team1_adjde</th>\n",
       "      <th>exp_win1</th>\n",
       "      <th>exp_win2</th>\n",
       "      <th>team1_log5</th>\n",
       "    </tr>\n",
       "  </thead>\n",
       "  <tbody>\n",
       "    <tr>\n",
       "      <th>1107</th>\n",
       "      <td>108.7</td>\n",
       "      <td>Loyola-Chicago</td>\n",
       "      <td>3.5</td>\n",
       "      <td>2018</td>\n",
       "      <td>Kansas St</td>\n",
       "      <td>10.9</td>\n",
       "      <td>93.9</td>\n",
       "      <td>0.843322</td>\n",
       "      <td>0.675772</td>\n",
       "      <td>0.720863</td>\n",
       "    </tr>\n",
       "    <tr>\n",
       "      <th>1108</th>\n",
       "      <td>111.2</td>\n",
       "      <td>Michigan</td>\n",
       "      <td>15.8</td>\n",
       "      <td>2018</td>\n",
       "      <td>Florida St</td>\n",
       "      <td>13.7</td>\n",
       "      <td>96.5</td>\n",
       "      <td>0.836246</td>\n",
       "      <td>0.734879</td>\n",
       "      <td>0.648177</td>\n",
       "    </tr>\n",
       "    <tr>\n",
       "      <th>1109</th>\n",
       "      <td>122.8</td>\n",
       "      <td>Villanova</td>\n",
       "      <td>13.5</td>\n",
       "      <td>2018</td>\n",
       "      <td>Kansas</td>\n",
       "      <td>14.1</td>\n",
       "      <td>99.9</td>\n",
       "      <td>0.914781</td>\n",
       "      <td>0.824472</td>\n",
       "      <td>0.695616</td>\n",
       "    </tr>\n",
       "    <tr>\n",
       "      <th>1110</th>\n",
       "      <td>111.2</td>\n",
       "      <td>Michigan</td>\n",
       "      <td>15.8</td>\n",
       "      <td>2018</td>\n",
       "      <td>Loyola-Chicago</td>\n",
       "      <td>3.5</td>\n",
       "      <td>96.5</td>\n",
       "      <td>0.836246</td>\n",
       "      <td>0.843322</td>\n",
       "      <td>0.486853</td>\n",
       "    </tr>\n",
       "    <tr>\n",
       "      <th>1111</th>\n",
       "      <td>122.8</td>\n",
       "      <td>Villanova</td>\n",
       "      <td>13.5</td>\n",
       "      <td>2018</td>\n",
       "      <td>Michigan</td>\n",
       "      <td>15.8</td>\n",
       "      <td>99.9</td>\n",
       "      <td>0.914781</td>\n",
       "      <td>0.836246</td>\n",
       "      <td>0.677630</td>\n",
       "    </tr>\n",
       "  </tbody>\n",
       "</table>\n",
       "</div>"
      ],
      "text/plain": [
       "      team1_adjoe  team1_teamname  Team1_BPI  season  team2_teamname  \\\n",
       "1107        108.7  Loyola-Chicago        3.5    2018       Kansas St   \n",
       "1108        111.2        Michigan       15.8    2018      Florida St   \n",
       "1109        122.8       Villanova       13.5    2018          Kansas   \n",
       "1110        111.2        Michigan       15.8    2018  Loyola-Chicago   \n",
       "1111        122.8       Villanova       13.5    2018        Michigan   \n",
       "\n",
       "      Team2_BPI  team1_adjde  exp_win1  exp_win2  team1_log5  \n",
       "1107       10.9         93.9  0.843322  0.675772    0.720863  \n",
       "1108       13.7         96.5  0.836246  0.734879    0.648177  \n",
       "1109       14.1         99.9  0.914781  0.824472    0.695616  \n",
       "1110        3.5         96.5  0.836246  0.843322    0.486853  \n",
       "1111       15.8         99.9  0.914781  0.836246    0.677630  "
      ]
     },
     "execution_count": 9,
     "metadata": {},
     "output_type": "execute_result"
    }
   ],
   "source": [
    "mm_data[['team1_adjoe','team1_teamname','Team1_BPI','season','team2_teamname','Team2_BPI','team1_adjde','exp_win1','exp_win2','team1_log5']].tail()"
   ]
  },
  {
   "cell_type": "code",
   "execution_count": 10,
   "metadata": {},
   "outputs": [],
   "source": [
    "###Seed Diff\n",
    "mm_data['seed_diff'] = mm_data['team1_seed'] - mm_data['team2_seed']"
   ]
  },
  {
   "cell_type": "code",
   "execution_count": 11,
   "metadata": {},
   "outputs": [],
   "source": [
    "## BPI difference\n",
    "mm_data['BPI_Diff']=mm_data['Team1_BPI'] -mm_data['Team2_BPI']\n"
   ]
  },
  {
   "cell_type": "code",
   "execution_count": null,
   "metadata": {},
   "outputs": [],
   "source": []
  },
  {
   "cell_type": "code",
   "execution_count": 12,
   "metadata": {},
   "outputs": [
    {
     "data": {
      "text/html": [
       "<div>\n",
       "<style scoped>\n",
       "    .dataframe tbody tr th:only-of-type {\n",
       "        vertical-align: middle;\n",
       "    }\n",
       "\n",
       "    .dataframe tbody tr th {\n",
       "        vertical-align: top;\n",
       "    }\n",
       "\n",
       "    .dataframe thead th {\n",
       "        text-align: right;\n",
       "    }\n",
       "</style>\n",
       "<table border=\"1\" class=\"dataframe\">\n",
       "  <thead>\n",
       "    <tr style=\"text-align: right;\">\n",
       "      <th></th>\n",
       "      <th>game_id</th>\n",
       "      <th>exp_win1</th>\n",
       "      <th>exp_win2</th>\n",
       "      <th>team2_score</th>\n",
       "      <th>team1_score</th>\n",
       "      <th>diff_dist</th>\n",
       "      <th>team1_log5</th>\n",
       "      <th>team1_id</th>\n",
       "      <th>team2_id</th>\n",
       "      <th>Team1_BPI</th>\n",
       "      <th>Team2_BPI</th>\n",
       "      <th>BPI_Diff</th>\n",
       "    </tr>\n",
       "  </thead>\n",
       "  <tbody>\n",
       "    <tr>\n",
       "      <th>1107</th>\n",
       "      <td>2018-1260-1243</td>\n",
       "      <td>0.843322</td>\n",
       "      <td>0.675772</td>\n",
       "      <td>62.0</td>\n",
       "      <td>78</td>\n",
       "      <td>-284.535852</td>\n",
       "      <td>0.720863</td>\n",
       "      <td>1260</td>\n",
       "      <td>1243</td>\n",
       "      <td>3.5</td>\n",
       "      <td>10.9</td>\n",
       "      <td>-7.4</td>\n",
       "    </tr>\n",
       "    <tr>\n",
       "      <th>1108</th>\n",
       "      <td>2018-1276-1199</td>\n",
       "      <td>0.836246</td>\n",
       "      <td>0.734879</td>\n",
       "      <td>54.0</td>\n",
       "      <td>58</td>\n",
       "      <td>-75.859795</td>\n",
       "      <td>0.648177</td>\n",
       "      <td>1276</td>\n",
       "      <td>1199</td>\n",
       "      <td>15.8</td>\n",
       "      <td>13.7</td>\n",
       "      <td>2.1</td>\n",
       "    </tr>\n",
       "    <tr>\n",
       "      <th>1109</th>\n",
       "      <td>2018-1437-1242</td>\n",
       "      <td>0.914781</td>\n",
       "      <td>0.824472</td>\n",
       "      <td>79.0</td>\n",
       "      <td>95</td>\n",
       "      <td>1311.108325</td>\n",
       "      <td>0.695616</td>\n",
       "      <td>1437</td>\n",
       "      <td>1242</td>\n",
       "      <td>13.5</td>\n",
       "      <td>14.1</td>\n",
       "      <td>-0.6</td>\n",
       "    </tr>\n",
       "    <tr>\n",
       "      <th>1110</th>\n",
       "      <td>2018-1276-1260</td>\n",
       "      <td>0.836246</td>\n",
       "      <td>0.843322</td>\n",
       "      <td>57.0</td>\n",
       "      <td>69</td>\n",
       "      <td>242.765505</td>\n",
       "      <td>0.486853</td>\n",
       "      <td>1276</td>\n",
       "      <td>1260</td>\n",
       "      <td>15.8</td>\n",
       "      <td>3.5</td>\n",
       "      <td>12.3</td>\n",
       "    </tr>\n",
       "    <tr>\n",
       "      <th>1111</th>\n",
       "      <td>2018-1437-1276</td>\n",
       "      <td>0.914781</td>\n",
       "      <td>0.836246</td>\n",
       "      <td>62.0</td>\n",
       "      <td>79</td>\n",
       "      <td>465.785620</td>\n",
       "      <td>0.677630</td>\n",
       "      <td>1437</td>\n",
       "      <td>1276</td>\n",
       "      <td>13.5</td>\n",
       "      <td>15.8</td>\n",
       "      <td>-2.3</td>\n",
       "    </tr>\n",
       "  </tbody>\n",
       "</table>\n",
       "</div>"
      ],
      "text/plain": [
       "             game_id  exp_win1  exp_win2  team2_score  team1_score  \\\n",
       "1107  2018-1260-1243  0.843322  0.675772         62.0           78   \n",
       "1108  2018-1276-1199  0.836246  0.734879         54.0           58   \n",
       "1109  2018-1437-1242  0.914781  0.824472         79.0           95   \n",
       "1110  2018-1276-1260  0.836246  0.843322         57.0           69   \n",
       "1111  2018-1437-1276  0.914781  0.836246         62.0           79   \n",
       "\n",
       "        diff_dist  team1_log5  team1_id  team2_id  Team1_BPI  Team2_BPI  \\\n",
       "1107  -284.535852    0.720863      1260      1243        3.5       10.9   \n",
       "1108   -75.859795    0.648177      1276      1199       15.8       13.7   \n",
       "1109  1311.108325    0.695616      1437      1242       13.5       14.1   \n",
       "1110   242.765505    0.486853      1276      1260       15.8        3.5   \n",
       "1111   465.785620    0.677630      1437      1276       13.5       15.8   \n",
       "\n",
       "      BPI_Diff  \n",
       "1107      -7.4  \n",
       "1108       2.1  \n",
       "1109      -0.6  \n",
       "1110      12.3  \n",
       "1111      -2.3  "
      ]
     },
     "execution_count": 12,
     "metadata": {},
     "output_type": "execute_result"
    }
   ],
   "source": [
    "mm_data[['game_id','exp_win1','exp_win2','team2_score','team1_score','diff_dist','team1_log5','team1_id','team2_id','Team1_BPI', 'Team2_BPI','BPI_Diff']].tail()"
   ]
  },
  {
   "cell_type": "code",
   "execution_count": 13,
   "metadata": {
    "scrolled": false
   },
   "outputs": [
    {
     "data": {
      "text/plain": [
       "1107    1\n",
       "1108    1\n",
       "1109    1\n",
       "1110    1\n",
       "1111    1\n",
       "Name: team1_win, dtype: int64"
      ]
     },
     "execution_count": 13,
     "metadata": {},
     "output_type": "execute_result"
    }
   ],
   "source": [
    "###Split Data\n",
    "mm_data.dropna(subset=['team1_log5'], inplace=True)\n",
    "\n",
    "mm_data['Score_Diff']=mm_data['team1_score']-mm_data['team2_score']\n",
    "mm_data['team1_win'] = mm_data['Score_Diff'].map(lambda x: 1 if x > 0 else 0)\n",
    "\n",
    "\n",
    "mm_data['team1_win'].tail()"
   ]
  },
  {
   "cell_type": "code",
   "execution_count": 14,
   "metadata": {},
   "outputs": [
    {
     "data": {
      "text/html": [
       "<div>\n",
       "<style scoped>\n",
       "    .dataframe tbody tr th:only-of-type {\n",
       "        vertical-align: middle;\n",
       "    }\n",
       "\n",
       "    .dataframe tbody tr th {\n",
       "        vertical-align: top;\n",
       "    }\n",
       "\n",
       "    .dataframe thead th {\n",
       "        text-align: right;\n",
       "    }\n",
       "</style>\n",
       "<table border=\"1\" class=\"dataframe\">\n",
       "  <thead>\n",
       "    <tr style=\"text-align: right;\">\n",
       "      <th></th>\n",
       "      <th>game_id</th>\n",
       "      <th>exp_win1</th>\n",
       "      <th>exp_win2</th>\n",
       "      <th>team2_score</th>\n",
       "      <th>team1_score</th>\n",
       "      <th>team1_win</th>\n",
       "      <th>Score_Diff</th>\n",
       "      <th>diff_dist</th>\n",
       "      <th>team1_log5</th>\n",
       "      <th>team1_id</th>\n",
       "      <th>team2_id</th>\n",
       "      <th>Team1_BPI</th>\n",
       "      <th>Team2_BPI</th>\n",
       "      <th>BPI_Diff</th>\n",
       "    </tr>\n",
       "  </thead>\n",
       "  <tbody>\n",
       "    <tr>\n",
       "      <th>1107</th>\n",
       "      <td>2018-1260-1243</td>\n",
       "      <td>0.843322</td>\n",
       "      <td>0.675772</td>\n",
       "      <td>62.0</td>\n",
       "      <td>78</td>\n",
       "      <td>1</td>\n",
       "      <td>16.0</td>\n",
       "      <td>-284.535852</td>\n",
       "      <td>0.720863</td>\n",
       "      <td>1260</td>\n",
       "      <td>1243</td>\n",
       "      <td>3.5</td>\n",
       "      <td>10.9</td>\n",
       "      <td>-7.4</td>\n",
       "    </tr>\n",
       "    <tr>\n",
       "      <th>1108</th>\n",
       "      <td>2018-1276-1199</td>\n",
       "      <td>0.836246</td>\n",
       "      <td>0.734879</td>\n",
       "      <td>54.0</td>\n",
       "      <td>58</td>\n",
       "      <td>1</td>\n",
       "      <td>4.0</td>\n",
       "      <td>-75.859795</td>\n",
       "      <td>0.648177</td>\n",
       "      <td>1276</td>\n",
       "      <td>1199</td>\n",
       "      <td>15.8</td>\n",
       "      <td>13.7</td>\n",
       "      <td>2.1</td>\n",
       "    </tr>\n",
       "    <tr>\n",
       "      <th>1109</th>\n",
       "      <td>2018-1437-1242</td>\n",
       "      <td>0.914781</td>\n",
       "      <td>0.824472</td>\n",
       "      <td>79.0</td>\n",
       "      <td>95</td>\n",
       "      <td>1</td>\n",
       "      <td>16.0</td>\n",
       "      <td>1311.108325</td>\n",
       "      <td>0.695616</td>\n",
       "      <td>1437</td>\n",
       "      <td>1242</td>\n",
       "      <td>13.5</td>\n",
       "      <td>14.1</td>\n",
       "      <td>-0.6</td>\n",
       "    </tr>\n",
       "    <tr>\n",
       "      <th>1110</th>\n",
       "      <td>2018-1276-1260</td>\n",
       "      <td>0.836246</td>\n",
       "      <td>0.843322</td>\n",
       "      <td>57.0</td>\n",
       "      <td>69</td>\n",
       "      <td>1</td>\n",
       "      <td>12.0</td>\n",
       "      <td>242.765505</td>\n",
       "      <td>0.486853</td>\n",
       "      <td>1276</td>\n",
       "      <td>1260</td>\n",
       "      <td>15.8</td>\n",
       "      <td>3.5</td>\n",
       "      <td>12.3</td>\n",
       "    </tr>\n",
       "    <tr>\n",
       "      <th>1111</th>\n",
       "      <td>2018-1437-1276</td>\n",
       "      <td>0.914781</td>\n",
       "      <td>0.836246</td>\n",
       "      <td>62.0</td>\n",
       "      <td>79</td>\n",
       "      <td>1</td>\n",
       "      <td>17.0</td>\n",
       "      <td>465.785620</td>\n",
       "      <td>0.677630</td>\n",
       "      <td>1437</td>\n",
       "      <td>1276</td>\n",
       "      <td>13.5</td>\n",
       "      <td>15.8</td>\n",
       "      <td>-2.3</td>\n",
       "    </tr>\n",
       "  </tbody>\n",
       "</table>\n",
       "</div>"
      ],
      "text/plain": [
       "             game_id  exp_win1  exp_win2  team2_score  team1_score  team1_win  \\\n",
       "1107  2018-1260-1243  0.843322  0.675772         62.0           78          1   \n",
       "1108  2018-1276-1199  0.836246  0.734879         54.0           58          1   \n",
       "1109  2018-1437-1242  0.914781  0.824472         79.0           95          1   \n",
       "1110  2018-1276-1260  0.836246  0.843322         57.0           69          1   \n",
       "1111  2018-1437-1276  0.914781  0.836246         62.0           79          1   \n",
       "\n",
       "      Score_Diff    diff_dist  team1_log5  team1_id  team2_id  Team1_BPI  \\\n",
       "1107        16.0  -284.535852    0.720863      1260      1243        3.5   \n",
       "1108         4.0   -75.859795    0.648177      1276      1199       15.8   \n",
       "1109        16.0  1311.108325    0.695616      1437      1242       13.5   \n",
       "1110        12.0   242.765505    0.486853      1276      1260       15.8   \n",
       "1111        17.0   465.785620    0.677630      1437      1276       13.5   \n",
       "\n",
       "      Team2_BPI  BPI_Diff  \n",
       "1107       10.9      -7.4  \n",
       "1108       13.7       2.1  \n",
       "1109       14.1      -0.6  \n",
       "1110        3.5      12.3  \n",
       "1111       15.8      -2.3  "
      ]
     },
     "execution_count": 14,
     "metadata": {},
     "output_type": "execute_result"
    }
   ],
   "source": [
    "#Features we currently using\n",
    "\n",
    "mm_data[['game_id','exp_win1','exp_win2','team2_score','team1_score','team1_win','Score_Diff','diff_dist','team1_log5','team1_id','team2_id','Team1_BPI', 'Team2_BPI','BPI_Diff']].tail()"
   ]
  },
  {
   "cell_type": "code",
   "execution_count": null,
   "metadata": {},
   "outputs": [],
   "source": []
  },
  {
   "cell_type": "code",
   "execution_count": null,
   "metadata": {},
   "outputs": [],
   "source": []
  },
  {
   "cell_type": "code",
   "execution_count": 17,
   "metadata": {},
   "outputs": [],
   "source": [
    "def shuffle(df):     \n",
    "    df = df.reindex(np.random.permutation(df.index)).copy()\n",
    "    return df.reset_index(drop=True)\n",
    "my_randoms = random.sample(range(len(mm_data)), int(len(mm_data)/2))\n",
    "##m_data[(~mm_data.index.isin(my_randoms))&(mm_data.season == 2015).shape"
   ]
  },
  {
   "cell_type": "code",
   "execution_count": 18,
   "metadata": {},
   "outputs": [],
   "source": [
    "mm_data = shuffle(mm_data)"
   ]
  },
  {
   "cell_type": "code",
   "execution_count": 19,
   "metadata": {},
   "outputs": [],
   "source": [
    "\n",
    "my_randoms = random.sample(range(len(mm_data)), int(len(mm_data)/2))"
   ]
  },
  {
   "cell_type": "code",
   "execution_count": 20,
   "metadata": {},
   "outputs": [
    {
     "data": {
      "text/plain": [
       "(33, 117)"
      ]
     },
     "execution_count": 20,
     "metadata": {},
     "output_type": "execute_result"
    }
   ],
   "source": [
    "mm_data[(~mm_data.index.isin(my_randoms))&(mm_data.season==2016)].shape"
   ]
  },
  {
   "cell_type": "code",
   "execution_count": 21,
   "metadata": {},
   "outputs": [],
   "source": [
    "mm_data_1 = mm_data[~mm_data.index.isin(my_randoms)][['game_id', 'season', 'team1_win', 'exp_win2', 'exp_win1', 'team1_score', 'team2_score', 'diff_dist', 'team1_log5',\n",
    " 'team2_id', 'team1_id','seed_diff','Score_Diff','BPI_Diff','Team1_BPI','Team2_BPI']].reset_index(drop=True)\n",
    "mm_data_2 = mm_data[mm_data.index.isin(my_randoms)][['game_id', 'season', 'team1_win', 'exp_win2', 'exp_win1', 'team1_score', 'team2_score', 'diff_dist', 'team1_log5',\n",
    " 'team2_id', 'team1_id','seed_diff','Score_Diff','BPI_Diff','Team1_BPI','Team2_BPI']].reset_index(drop=True)"
   ]
  },
  {
   "cell_type": "code",
   "execution_count": 22,
   "metadata": {},
   "outputs": [],
   "source": [
    "mm_data_2['team1_win'] = mm_data_2['team1_win'].apply(lambda x: 1 if x==0 else 0)\n",
    "mm_data_2['diff_dist'] = mm_data_2['diff_dist']*-1\n",
    "mm_data_2['team1_log5'] = 1-mm_data_2['team1_log5']\n",
    "mm_data['seed_diff'] = mm_data['seed_diff']*-1\n",
    "mm_data_2.columns = ['game_id', 'season', 'team1_win', 'exp_win2', 'exp_win1', 'team1_score', 'team2_score', 'diff_dist', 'team1_log5',\n",
    " 'team2_id', 'team1_id','seed_diff','Score_Diff','BPI_Diff','Team1_BPI','Team2_BPI']\n"
   ]
  },
  {
   "cell_type": "code",
   "execution_count": 23,
   "metadata": {},
   "outputs": [],
   "source": [
    "mm_train = pd.concat([mm_data_2, mm_data_1])"
   ]
  },
  {
   "cell_type": "code",
   "execution_count": 24,
   "metadata": {},
   "outputs": [],
   "source": [
    "mm_data_2017 = mm_train[mm_train['season'] == 2017].reset_index(drop=True)\n",
    "mm_data_else =  mm_train[mm_train['season'] != 2017 ].reset_index(drop=True)\n",
    "mm_data_2018 = mm_train[mm_train['season'] == 2018].reset_index(drop = True)\n",
    "mm_data_else2 = mm_train[mm_train['season'] != 2018].reset_index(drop=True)\n"
   ]
  },
  {
   "cell_type": "code",
   "execution_count": 25,
   "metadata": {},
   "outputs": [
    {
     "data": {
      "text/plain": [
       "team1_id  team2_id\n",
       "1112      1315        1\n",
       "          1388        1\n",
       "1116      1371        1\n",
       "1124      1308        1\n",
       "          1425        1\n",
       "1139      1292        1\n",
       "          1457        1\n",
       "1153      1243        1\n",
       "1181      1407        1\n",
       "1196      1190        1\n",
       "          1438        1\n",
       "          1458        1\n",
       "1199      1195        1\n",
       "1211      1321        1\n",
       "          1355        1\n",
       "          1376        1\n",
       "          1452        1\n",
       "          1462        1\n",
       "1235      1305        1\n",
       "1242      1277        1\n",
       "          1345        1\n",
       "          1413        1\n",
       "1243      1448        1\n",
       "1246      1297        1\n",
       "          1417        1\n",
       "          1455        1\n",
       "1257      1240        1\n",
       "1276      1257        1\n",
       "          1329        1\n",
       "1277      1274        1\n",
       "                     ..\n",
       "1314      1411        1\n",
       "1321      1435        1\n",
       "1323      1343        1\n",
       "1332      1233        1\n",
       "          1242        1\n",
       "          1276        1\n",
       "          1348        1\n",
       "1345      1235        1\n",
       "          1436        1\n",
       "1348      1166        1\n",
       "1376      1124        1\n",
       "          1181        1\n",
       "          1196        1\n",
       "          1266        1\n",
       "1388      1433        1\n",
       "1413      1300        1\n",
       "1417      1153        1\n",
       "          1245        1\n",
       "1425      1344        1\n",
       "          1374        1\n",
       "1437      1291        1\n",
       "1438      1423        1\n",
       "1452      1137        1\n",
       "          1323        1\n",
       "1455      1173        1\n",
       "1458      1437        1\n",
       "          1439        1\n",
       "1462      1112        1\n",
       "          1199        1\n",
       "          1268        1\n",
       "Name: team2_id, Length: 67, dtype: int64"
      ]
     },
     "execution_count": 25,
     "metadata": {},
     "output_type": "execute_result"
    }
   ],
   "source": [
    "##Innitial Check\n",
    "#mm_data_else.groupby('team1_win')['team1_log5'].mean()\n",
    "mm_data_2017[['team1_id','team2_id']].groupby(['team1_id','team2_id'])['team2_id'].count()\n"
   ]
  },
  {
   "cell_type": "code",
   "execution_count": 26,
   "metadata": {},
   "outputs": [
    {
     "data": {
      "text/plain": [
       "team1_win\n",
       "0   -3.346591\n",
       "1   -3.951644\n",
       "Name: seed_diff, dtype: float64"
      ]
     },
     "execution_count": 26,
     "metadata": {},
     "output_type": "execute_result"
    }
   ],
   "source": [
    "mm_data_else.groupby('team1_win')['seed_diff'].mean()\n"
   ]
  },
  {
   "cell_type": "code",
   "execution_count": 27,
   "metadata": {},
   "outputs": [
    {
     "data": {
      "text/plain": [
       "team1_win\n",
       "0    169.409607\n",
       "1   -165.961334\n",
       "Name: diff_dist, dtype: float64"
      ]
     },
     "execution_count": 27,
     "metadata": {},
     "output_type": "execute_result"
    }
   ],
   "source": [
    "mm_data_else.groupby('team1_win')['diff_dist'].mean()"
   ]
  },
  {
   "cell_type": "code",
   "execution_count": 28,
   "metadata": {},
   "outputs": [
    {
     "data": {
      "text/plain": [
       "LogisticRegression(C=1.0, class_weight=None, dual=False, fit_intercept=True,\n",
       "          intercept_scaling=1, max_iter=100, multi_class='ovr', n_jobs=1,\n",
       "          penalty='l2', random_state=None, solver='liblinear', tol=0.0001,\n",
       "          verbose=0, warm_start=False)"
      ]
     },
     "execution_count": 28,
     "metadata": {},
     "output_type": "execute_result"
    }
   ],
   "source": [
    "###Train Logit\n",
    "scaler = StandardScaler()\n",
    "mm_train_scaled = scaler.fit_transform(mm_data_else[['team1_log5']])\n",
    "mm_train_scaled2 = scaler.fit_transform(mm_data_else2[['team1_log5']])\n",
    "logit = LogisticRegression()\n",
    "logit.fit(mm_train_scaled, mm_data_else['team1_win'])"
   ]
  },
  {
   "cell_type": "code",
   "execution_count": 29,
   "metadata": {},
   "outputs": [
    {
     "name": "stdout",
     "output_type": "stream",
     "text": [
      "Optimization terminated successfully.\n",
      "         Current function value: 0.672029\n",
      "         Iterations 4\n",
      "Optimization terminated successfully.\n",
      "         Current function value: 0.668589\n",
      "         Iterations 4\n"
     ]
    },
    {
     "data": {
      "text/html": [
       "<table class=\"simpletable\">\n",
       "<caption>Logit Regression Results</caption>\n",
       "<tr>\n",
       "  <th>Dep. Variable:</th>     <td>team1_win</td>    <th>  No. Observations:  </th>  <td>  1045</td> \n",
       "</tr>\n",
       "<tr>\n",
       "  <th>Model:</th>               <td>Logit</td>      <th>  Df Residuals:      </th>  <td>  1044</td> \n",
       "</tr>\n",
       "<tr>\n",
       "  <th>Method:</th>               <td>MLE</td>       <th>  Df Model:          </th>  <td>     0</td> \n",
       "</tr>\n",
       "<tr>\n",
       "  <th>Date:</th>          <td>Thu, 28 Feb 2019</td> <th>  Pseudo R-squ.:     </th>  <td>0.03039</td>\n",
       "</tr>\n",
       "<tr>\n",
       "  <th>Time:</th>              <td>15:02:30</td>     <th>  Log-Likelihood:    </th> <td> -702.27</td>\n",
       "</tr>\n",
       "<tr>\n",
       "  <th>converged:</th>           <td>True</td>       <th>  LL-Null:           </th> <td> -724.28</td>\n",
       "</tr>\n",
       "<tr>\n",
       "  <th> </th>                      <td> </td>        <th>  LLR p-value:       </th>  <td>   nan</td> \n",
       "</tr>\n",
       "</table>\n",
       "<table class=\"simpletable\">\n",
       "<tr>\n",
       "       <td></td>         <th>coef</th>     <th>std err</th>      <th>z</th>      <th>P>|z|</th>  <th>[0.025</th>    <th>0.975]</th>  \n",
       "</tr>\n",
       "<tr>\n",
       "  <th>team1_log5</th> <td>    0.7553</td> <td>    0.116</td> <td>    6.529</td> <td> 0.000</td> <td>    0.529</td> <td>    0.982</td>\n",
       "</tr>\n",
       "</table>"
      ],
      "text/plain": [
       "<class 'statsmodels.iolib.summary.Summary'>\n",
       "\"\"\"\n",
       "                           Logit Regression Results                           \n",
       "==============================================================================\n",
       "Dep. Variable:              team1_win   No. Observations:                 1045\n",
       "Model:                          Logit   Df Residuals:                     1044\n",
       "Method:                           MLE   Df Model:                            0\n",
       "Date:                Thu, 28 Feb 2019   Pseudo R-squ.:                 0.03039\n",
       "Time:                        15:02:30   Log-Likelihood:                -702.27\n",
       "converged:                       True   LL-Null:                       -724.28\n",
       "                                        LLR p-value:                       nan\n",
       "==============================================================================\n",
       "                 coef    std err          z      P>|z|      [0.025      0.975]\n",
       "------------------------------------------------------------------------------\n",
       "team1_log5     0.7553      0.116      6.529      0.000       0.529       0.982\n",
       "==============================================================================\n",
       "\"\"\""
      ]
     },
     "execution_count": 29,
     "metadata": {},
     "output_type": "execute_result"
    }
   ],
   "source": [
    "smlogit = sm.Logit(mm_data_else['team1_win'], mm_data_else['team1_log5']).fit()\n",
    "smlogit2 = sm.Logit(mm_data_else2['team1_win'],mm_data_else2['team1_log5']).fit()\n",
    "smlogit.summary()"
   ]
  },
  {
   "cell_type": "code",
   "execution_count": 30,
   "metadata": {},
   "outputs": [],
   "source": [
    "mm_data_2017['preds'] = logit.predict_proba(scaler.fit_transform(mm_data_2017[['team1_log5']]))[:,1]\n",
    "mm_data_2018['preds'] = logit.predict_proba(scaler.fit_transform(mm_data_2018[['team1_log5']]))[:,1]\n",
    "mm_data_2017['prediction'] = logit.predict(scaler.fit_transform(mm_data_2017[['team1_log5']]))\n",
    "mm_data_2018['prediction'] = logit.predict(scaler.fit_transform(mm_data_2018[['team1_log5']]))"
   ]
  },
  {
   "cell_type": "code",
   "execution_count": 31,
   "metadata": {},
   "outputs": [
    {
     "data": {
      "text/html": [
       "<div>\n",
       "<style scoped>\n",
       "    .dataframe tbody tr th:only-of-type {\n",
       "        vertical-align: middle;\n",
       "    }\n",
       "\n",
       "    .dataframe tbody tr th {\n",
       "        vertical-align: top;\n",
       "    }\n",
       "\n",
       "    .dataframe thead th {\n",
       "        text-align: right;\n",
       "    }\n",
       "</style>\n",
       "<table border=\"1\" class=\"dataframe\">\n",
       "  <thead>\n",
       "    <tr style=\"text-align: right;\">\n",
       "      <th></th>\n",
       "      <th>team1_log5</th>\n",
       "      <th>team1_win</th>\n",
       "      <th>preds</th>\n",
       "      <th>prediction</th>\n",
       "    </tr>\n",
       "  </thead>\n",
       "  <tbody>\n",
       "    <tr>\n",
       "      <th>0</th>\n",
       "      <td>0.468880</td>\n",
       "      <td>0</td>\n",
       "      <td>0.493581</td>\n",
       "      <td>0</td>\n",
       "    </tr>\n",
       "    <tr>\n",
       "      <th>1</th>\n",
       "      <td>0.533201</td>\n",
       "      <td>0</td>\n",
       "      <td>0.573751</td>\n",
       "      <td>1</td>\n",
       "    </tr>\n",
       "    <tr>\n",
       "      <th>2</th>\n",
       "      <td>0.021831</td>\n",
       "      <td>0</td>\n",
       "      <td>0.093673</td>\n",
       "      <td>0</td>\n",
       "    </tr>\n",
       "    <tr>\n",
       "      <th>3</th>\n",
       "      <td>0.784210</td>\n",
       "      <td>0</td>\n",
       "      <td>0.825935</td>\n",
       "      <td>1</td>\n",
       "    </tr>\n",
       "    <tr>\n",
       "      <th>4</th>\n",
       "      <td>0.032454</td>\n",
       "      <td>0</td>\n",
       "      <td>0.098299</td>\n",
       "      <td>0</td>\n",
       "    </tr>\n",
       "    <tr>\n",
       "      <th>5</th>\n",
       "      <td>0.101504</td>\n",
       "      <td>0</td>\n",
       "      <td>0.133578</td>\n",
       "      <td>0</td>\n",
       "    </tr>\n",
       "    <tr>\n",
       "      <th>6</th>\n",
       "      <td>0.604301</td>\n",
       "      <td>0</td>\n",
       "      <td>0.657924</td>\n",
       "      <td>1</td>\n",
       "    </tr>\n",
       "    <tr>\n",
       "      <th>7</th>\n",
       "      <td>0.142234</td>\n",
       "      <td>0</td>\n",
       "      <td>0.159059</td>\n",
       "      <td>0</td>\n",
       "    </tr>\n",
       "    <tr>\n",
       "      <th>8</th>\n",
       "      <td>0.122525</td>\n",
       "      <td>0</td>\n",
       "      <td>0.146269</td>\n",
       "      <td>0</td>\n",
       "    </tr>\n",
       "    <tr>\n",
       "      <th>9</th>\n",
       "      <td>0.125122</td>\n",
       "      <td>0</td>\n",
       "      <td>0.147904</td>\n",
       "      <td>0</td>\n",
       "    </tr>\n",
       "    <tr>\n",
       "      <th>10</th>\n",
       "      <td>0.555197</td>\n",
       "      <td>0</td>\n",
       "      <td>0.600508</td>\n",
       "      <td>1</td>\n",
       "    </tr>\n",
       "    <tr>\n",
       "      <th>11</th>\n",
       "      <td>0.193338</td>\n",
       "      <td>0</td>\n",
       "      <td>0.196434</td>\n",
       "      <td>0</td>\n",
       "    </tr>\n",
       "    <tr>\n",
       "      <th>12</th>\n",
       "      <td>0.160063</td>\n",
       "      <td>0</td>\n",
       "      <td>0.171397</td>\n",
       "      <td>0</td>\n",
       "    </tr>\n",
       "    <tr>\n",
       "      <th>13</th>\n",
       "      <td>0.698511</td>\n",
       "      <td>0</td>\n",
       "      <td>0.755272</td>\n",
       "      <td>1</td>\n",
       "    </tr>\n",
       "    <tr>\n",
       "      <th>14</th>\n",
       "      <td>0.363621</td>\n",
       "      <td>0</td>\n",
       "      <td>0.364934</td>\n",
       "      <td>0</td>\n",
       "    </tr>\n",
       "    <tr>\n",
       "      <th>15</th>\n",
       "      <td>0.668543</td>\n",
       "      <td>0</td>\n",
       "      <td>0.726414</td>\n",
       "      <td>1</td>\n",
       "    </tr>\n",
       "    <tr>\n",
       "      <th>16</th>\n",
       "      <td>0.242209</td>\n",
       "      <td>0</td>\n",
       "      <td>0.238044</td>\n",
       "      <td>0</td>\n",
       "    </tr>\n",
       "    <tr>\n",
       "      <th>17</th>\n",
       "      <td>0.051579</td>\n",
       "      <td>0</td>\n",
       "      <td>0.107142</td>\n",
       "      <td>0</td>\n",
       "    </tr>\n",
       "    <tr>\n",
       "      <th>18</th>\n",
       "      <td>0.656973</td>\n",
       "      <td>0</td>\n",
       "      <td>0.714723</td>\n",
       "      <td>1</td>\n",
       "    </tr>\n",
       "    <tr>\n",
       "      <th>19</th>\n",
       "      <td>0.082143</td>\n",
       "      <td>0</td>\n",
       "      <td>0.122726</td>\n",
       "      <td>0</td>\n",
       "    </tr>\n",
       "    <tr>\n",
       "      <th>20</th>\n",
       "      <td>0.492439</td>\n",
       "      <td>0</td>\n",
       "      <td>0.523127</td>\n",
       "      <td>1</td>\n",
       "    </tr>\n",
       "    <tr>\n",
       "      <th>21</th>\n",
       "      <td>0.412338</td>\n",
       "      <td>0</td>\n",
       "      <td>0.423241</td>\n",
       "      <td>0</td>\n",
       "    </tr>\n",
       "    <tr>\n",
       "      <th>22</th>\n",
       "      <td>0.034580</td>\n",
       "      <td>0</td>\n",
       "      <td>0.099248</td>\n",
       "      <td>0</td>\n",
       "    </tr>\n",
       "    <tr>\n",
       "      <th>23</th>\n",
       "      <td>0.204231</td>\n",
       "      <td>0</td>\n",
       "      <td>0.205208</td>\n",
       "      <td>0</td>\n",
       "    </tr>\n",
       "    <tr>\n",
       "      <th>24</th>\n",
       "      <td>0.102282</td>\n",
       "      <td>0</td>\n",
       "      <td>0.134031</td>\n",
       "      <td>0</td>\n",
       "    </tr>\n",
       "    <tr>\n",
       "      <th>25</th>\n",
       "      <td>0.124234</td>\n",
       "      <td>0</td>\n",
       "      <td>0.147343</td>\n",
       "      <td>0</td>\n",
       "    </tr>\n",
       "    <tr>\n",
       "      <th>26</th>\n",
       "      <td>0.116461</td>\n",
       "      <td>0</td>\n",
       "      <td>0.142509</td>\n",
       "      <td>0</td>\n",
       "    </tr>\n",
       "    <tr>\n",
       "      <th>27</th>\n",
       "      <td>0.258399</td>\n",
       "      <td>0</td>\n",
       "      <td>0.253096</td>\n",
       "      <td>0</td>\n",
       "    </tr>\n",
       "    <tr>\n",
       "      <th>28</th>\n",
       "      <td>0.681753</td>\n",
       "      <td>1</td>\n",
       "      <td>0.739393</td>\n",
       "      <td>1</td>\n",
       "    </tr>\n",
       "    <tr>\n",
       "      <th>29</th>\n",
       "      <td>0.942024</td>\n",
       "      <td>1</td>\n",
       "      <td>0.912872</td>\n",
       "      <td>1</td>\n",
       "    </tr>\n",
       "    <tr>\n",
       "      <th>...</th>\n",
       "      <td>...</td>\n",
       "      <td>...</td>\n",
       "      <td>...</td>\n",
       "      <td>...</td>\n",
       "    </tr>\n",
       "    <tr>\n",
       "      <th>37</th>\n",
       "      <td>0.340080</td>\n",
       "      <td>1</td>\n",
       "      <td>0.338010</td>\n",
       "      <td>0</td>\n",
       "    </tr>\n",
       "    <tr>\n",
       "      <th>38</th>\n",
       "      <td>0.528967</td>\n",
       "      <td>1</td>\n",
       "      <td>0.568546</td>\n",
       "      <td>1</td>\n",
       "    </tr>\n",
       "    <tr>\n",
       "      <th>39</th>\n",
       "      <td>0.483943</td>\n",
       "      <td>1</td>\n",
       "      <td>0.512480</td>\n",
       "      <td>1</td>\n",
       "    </tr>\n",
       "    <tr>\n",
       "      <th>40</th>\n",
       "      <td>0.516134</td>\n",
       "      <td>1</td>\n",
       "      <td>0.552681</td>\n",
       "      <td>1</td>\n",
       "    </tr>\n",
       "    <tr>\n",
       "      <th>41</th>\n",
       "      <td>0.787423</td>\n",
       "      <td>1</td>\n",
       "      <td>0.828242</td>\n",
       "      <td>1</td>\n",
       "    </tr>\n",
       "    <tr>\n",
       "      <th>42</th>\n",
       "      <td>0.978442</td>\n",
       "      <td>1</td>\n",
       "      <td>0.926356</td>\n",
       "      <td>1</td>\n",
       "    </tr>\n",
       "    <tr>\n",
       "      <th>43</th>\n",
       "      <td>0.306277</td>\n",
       "      <td>1</td>\n",
       "      <td>0.301146</td>\n",
       "      <td>0</td>\n",
       "    </tr>\n",
       "    <tr>\n",
       "      <th>44</th>\n",
       "      <td>0.740994</td>\n",
       "      <td>1</td>\n",
       "      <td>0.792518</td>\n",
       "      <td>1</td>\n",
       "    </tr>\n",
       "    <tr>\n",
       "      <th>45</th>\n",
       "      <td>0.850546</td>\n",
       "      <td>1</td>\n",
       "      <td>0.868762</td>\n",
       "      <td>1</td>\n",
       "    </tr>\n",
       "    <tr>\n",
       "      <th>46</th>\n",
       "      <td>0.547969</td>\n",
       "      <td>1</td>\n",
       "      <td>0.591773</td>\n",
       "      <td>1</td>\n",
       "    </tr>\n",
       "    <tr>\n",
       "      <th>47</th>\n",
       "      <td>0.580062</td>\n",
       "      <td>1</td>\n",
       "      <td>0.630040</td>\n",
       "      <td>1</td>\n",
       "    </tr>\n",
       "    <tr>\n",
       "      <th>48</th>\n",
       "      <td>0.599035</td>\n",
       "      <td>1</td>\n",
       "      <td>0.651950</td>\n",
       "      <td>1</td>\n",
       "    </tr>\n",
       "    <tr>\n",
       "      <th>49</th>\n",
       "      <td>0.708338</td>\n",
       "      <td>1</td>\n",
       "      <td>0.764274</td>\n",
       "      <td>1</td>\n",
       "    </tr>\n",
       "    <tr>\n",
       "      <th>50</th>\n",
       "      <td>0.516449</td>\n",
       "      <td>1</td>\n",
       "      <td>0.553072</td>\n",
       "      <td>1</td>\n",
       "    </tr>\n",
       "    <tr>\n",
       "      <th>51</th>\n",
       "      <td>0.752576</td>\n",
       "      <td>1</td>\n",
       "      <td>0.801915</td>\n",
       "      <td>1</td>\n",
       "    </tr>\n",
       "    <tr>\n",
       "      <th>52</th>\n",
       "      <td>0.546112</td>\n",
       "      <td>1</td>\n",
       "      <td>0.589519</td>\n",
       "      <td>1</td>\n",
       "    </tr>\n",
       "    <tr>\n",
       "      <th>53</th>\n",
       "      <td>0.842631</td>\n",
       "      <td>1</td>\n",
       "      <td>0.864166</td>\n",
       "      <td>1</td>\n",
       "    </tr>\n",
       "    <tr>\n",
       "      <th>54</th>\n",
       "      <td>0.924440</td>\n",
       "      <td>1</td>\n",
       "      <td>0.905592</td>\n",
       "      <td>1</td>\n",
       "    </tr>\n",
       "    <tr>\n",
       "      <th>55</th>\n",
       "      <td>0.438060</td>\n",
       "      <td>1</td>\n",
       "      <td>0.455027</td>\n",
       "      <td>0</td>\n",
       "    </tr>\n",
       "    <tr>\n",
       "      <th>56</th>\n",
       "      <td>0.734479</td>\n",
       "      <td>1</td>\n",
       "      <td>0.787089</td>\n",
       "      <td>1</td>\n",
       "    </tr>\n",
       "    <tr>\n",
       "      <th>57</th>\n",
       "      <td>0.453934</td>\n",
       "      <td>1</td>\n",
       "      <td>0.474847</td>\n",
       "      <td>0</td>\n",
       "    </tr>\n",
       "    <tr>\n",
       "      <th>58</th>\n",
       "      <td>0.679121</td>\n",
       "      <td>1</td>\n",
       "      <td>0.736839</td>\n",
       "      <td>1</td>\n",
       "    </tr>\n",
       "    <tr>\n",
       "      <th>59</th>\n",
       "      <td>0.323238</td>\n",
       "      <td>1</td>\n",
       "      <td>0.319360</td>\n",
       "      <td>0</td>\n",
       "    </tr>\n",
       "    <tr>\n",
       "      <th>60</th>\n",
       "      <td>0.510152</td>\n",
       "      <td>1</td>\n",
       "      <td>0.545246</td>\n",
       "      <td>1</td>\n",
       "    </tr>\n",
       "    <tr>\n",
       "      <th>61</th>\n",
       "      <td>0.661492</td>\n",
       "      <td>1</td>\n",
       "      <td>0.719326</td>\n",
       "      <td>1</td>\n",
       "    </tr>\n",
       "    <tr>\n",
       "      <th>62</th>\n",
       "      <td>0.450574</td>\n",
       "      <td>1</td>\n",
       "      <td>0.470643</td>\n",
       "      <td>0</td>\n",
       "    </tr>\n",
       "    <tr>\n",
       "      <th>63</th>\n",
       "      <td>0.474013</td>\n",
       "      <td>1</td>\n",
       "      <td>0.500021</td>\n",
       "      <td>1</td>\n",
       "    </tr>\n",
       "    <tr>\n",
       "      <th>64</th>\n",
       "      <td>0.278702</td>\n",
       "      <td>1</td>\n",
       "      <td>0.272841</td>\n",
       "      <td>0</td>\n",
       "    </tr>\n",
       "    <tr>\n",
       "      <th>65</th>\n",
       "      <td>0.432691</td>\n",
       "      <td>1</td>\n",
       "      <td>0.448353</td>\n",
       "      <td>0</td>\n",
       "    </tr>\n",
       "    <tr>\n",
       "      <th>66</th>\n",
       "      <td>0.395810</td>\n",
       "      <td>1</td>\n",
       "      <td>0.403128</td>\n",
       "      <td>0</td>\n",
       "    </tr>\n",
       "  </tbody>\n",
       "</table>\n",
       "<p>67 rows × 4 columns</p>\n",
       "</div>"
      ],
      "text/plain": [
       "    team1_log5  team1_win     preds  prediction\n",
       "0     0.468880          0  0.493581           0\n",
       "1     0.533201          0  0.573751           1\n",
       "2     0.021831          0  0.093673           0\n",
       "3     0.784210          0  0.825935           1\n",
       "4     0.032454          0  0.098299           0\n",
       "5     0.101504          0  0.133578           0\n",
       "6     0.604301          0  0.657924           1\n",
       "7     0.142234          0  0.159059           0\n",
       "8     0.122525          0  0.146269           0\n",
       "9     0.125122          0  0.147904           0\n",
       "10    0.555197          0  0.600508           1\n",
       "11    0.193338          0  0.196434           0\n",
       "12    0.160063          0  0.171397           0\n",
       "13    0.698511          0  0.755272           1\n",
       "14    0.363621          0  0.364934           0\n",
       "15    0.668543          0  0.726414           1\n",
       "16    0.242209          0  0.238044           0\n",
       "17    0.051579          0  0.107142           0\n",
       "18    0.656973          0  0.714723           1\n",
       "19    0.082143          0  0.122726           0\n",
       "20    0.492439          0  0.523127           1\n",
       "21    0.412338          0  0.423241           0\n",
       "22    0.034580          0  0.099248           0\n",
       "23    0.204231          0  0.205208           0\n",
       "24    0.102282          0  0.134031           0\n",
       "25    0.124234          0  0.147343           0\n",
       "26    0.116461          0  0.142509           0\n",
       "27    0.258399          0  0.253096           0\n",
       "28    0.681753          1  0.739393           1\n",
       "29    0.942024          1  0.912872           1\n",
       "..         ...        ...       ...         ...\n",
       "37    0.340080          1  0.338010           0\n",
       "38    0.528967          1  0.568546           1\n",
       "39    0.483943          1  0.512480           1\n",
       "40    0.516134          1  0.552681           1\n",
       "41    0.787423          1  0.828242           1\n",
       "42    0.978442          1  0.926356           1\n",
       "43    0.306277          1  0.301146           0\n",
       "44    0.740994          1  0.792518           1\n",
       "45    0.850546          1  0.868762           1\n",
       "46    0.547969          1  0.591773           1\n",
       "47    0.580062          1  0.630040           1\n",
       "48    0.599035          1  0.651950           1\n",
       "49    0.708338          1  0.764274           1\n",
       "50    0.516449          1  0.553072           1\n",
       "51    0.752576          1  0.801915           1\n",
       "52    0.546112          1  0.589519           1\n",
       "53    0.842631          1  0.864166           1\n",
       "54    0.924440          1  0.905592           1\n",
       "55    0.438060          1  0.455027           0\n",
       "56    0.734479          1  0.787089           1\n",
       "57    0.453934          1  0.474847           0\n",
       "58    0.679121          1  0.736839           1\n",
       "59    0.323238          1  0.319360           0\n",
       "60    0.510152          1  0.545246           1\n",
       "61    0.661492          1  0.719326           1\n",
       "62    0.450574          1  0.470643           0\n",
       "63    0.474013          1  0.500021           1\n",
       "64    0.278702          1  0.272841           0\n",
       "65    0.432691          1  0.448353           0\n",
       "66    0.395810          1  0.403128           0\n",
       "\n",
       "[67 rows x 4 columns]"
      ]
     },
     "execution_count": 31,
     "metadata": {},
     "output_type": "execute_result"
    }
   ],
   "source": [
    "mm_data_2017[['team1_log5','team1_win','preds','prediction']]\n",
    "#mm_data_2018[['team1_log5','team1_win','preds','prediction']]"
   ]
  },
  {
   "cell_type": "code",
   "execution_count": 32,
   "metadata": {},
   "outputs": [
    {
     "data": {
      "text/plain": [
       "team1_win\n",
       "0    0.330549\n",
       "1    0.619423\n",
       "Name: preds, dtype: float64"
      ]
     },
     "execution_count": 32,
     "metadata": {},
     "output_type": "execute_result"
    }
   ],
   "source": [
    "mm_data_2017.groupby('team1_win')['preds'].mean()"
   ]
  },
  {
   "cell_type": "code",
   "execution_count": 33,
   "metadata": {},
   "outputs": [
    {
     "data": {
      "text/plain": [
       "<matplotlib.axes._subplots.AxesSubplot at 0x2aaed5c3358>"
      ]
     },
     "execution_count": 33,
     "metadata": {},
     "output_type": "execute_result"
    },
    {
     "data": {
      "image/png": "[encoded data removed]",
      "text/plain": [
       "<Figure size 432x288 with 1 Axes>"
      ]
     },
     "metadata": {},
     "output_type": "display_data"
    }
   ],
   "source": [
    "mm_data_2017.plot(kind='scatter', x='preds',y='team1_log5')"
   ]
  },
  {
   "cell_type": "code",
   "execution_count": 34,
   "metadata": {},
   "outputs": [
    {
     "data": {
      "text/plain": [
       "array([[20,  8],\n",
       "       [11, 28]], dtype=int64)"
      ]
     },
     "execution_count": 34,
     "metadata": {},
     "output_type": "execute_result"
    }
   ],
   "source": [
    "confusion_matrix(mm_data_2017['team1_win'], mm_data_2017['prediction'])"
   ]
  },
  {
   "cell_type": "code",
   "execution_count": 35,
   "metadata": {},
   "outputs": [
    {
     "data": {
      "text/plain": [
       "0.7164179104477612"
      ]
     },
     "execution_count": 35,
     "metadata": {},
     "output_type": "execute_result"
    }
   ],
   "source": [
    "accuracy_score(mm_data_2017['team1_win'], mm_data_2017['prediction'],)"
   ]
  },
  {
   "cell_type": "code",
   "execution_count": 36,
   "metadata": {},
   "outputs": [
    {
     "data": {
      "text/plain": [
       "0.7777777777777778"
      ]
     },
     "execution_count": 36,
     "metadata": {},
     "output_type": "execute_result"
    }
   ],
   "source": [
    "precision_score(mm_data_2017['team1_win'], mm_data_2017['prediction'])"
   ]
  },
  {
   "cell_type": "code",
   "execution_count": 37,
   "metadata": {},
   "outputs": [
    {
     "data": {
      "text/plain": [
       "0.717948717948718"
      ]
     },
     "execution_count": 37,
     "metadata": {},
     "output_type": "execute_result"
    }
   ],
   "source": [
    "recall_score(mm_data_2017['team1_win'], mm_data_2017['prediction'])"
   ]
  },
  {
   "cell_type": "code",
   "execution_count": 38,
   "metadata": {},
   "outputs": [
    {
     "data": {
      "text/plain": [
       "0.7466666666666666"
      ]
     },
     "execution_count": 38,
     "metadata": {},
     "output_type": "execute_result"
    }
   ],
   "source": [
    "f1_score(mm_data_2017['team1_win'], mm_data_2017['prediction'])"
   ]
  },
  {
   "cell_type": "code",
   "execution_count": 39,
   "metadata": {},
   "outputs": [
    {
     "data": {
      "text/plain": [
       "0.5170127827356741"
      ]
     },
     "execution_count": 39,
     "metadata": {},
     "output_type": "execute_result"
    }
   ],
   "source": [
    "log_loss(mm_data_2017['team1_win'].values, mm_data_2017['preds'].values)"
   ]
  },
  {
   "cell_type": "code",
   "execution_count": 40,
   "metadata": {},
   "outputs": [],
   "source": [
    "def plot_roc(fpr, tpr, roc_auc):\n",
    "    \"\"\"Plots the ROC curve for the win probability model along with\n",
    "    the AUC.\n",
    "    \"\"\"\n",
    "    fig, ax = plt.subplots()\n",
    "    ax.set(title='Receiver Operating Characteristic',\n",
    "           xlim=[0, 1], ylim=[0, 1], xlabel='False Positive Rate',\n",
    "           ylabel='True Positive Rate')\n",
    "    ax.plot(fpr, tpr, 'b', label='AUC = %0.2f' % roc_auc)\n",
    "    ax.plot([0, 1], [0, 1], 'k--')\n",
    "    ax.legend(loc='lower right')"
   ]
  },
  {
   "cell_type": "code",
   "execution_count": 41,
   "metadata": {},
   "outputs": [
    {
     "data": {
      "image/png": "[encoded data removed]",
      "text/plain": [
       "<Figure size 432x288 with 1 Axes>"
      ]
     },
     "metadata": {},
     "output_type": "display_data"
    }
   ],
   "source": [
    "fpr, tpr, thresholds = roc_curve(mm_data_2017['team1_win'].values, mm_data_2017['preds'].values)\n",
    "roc_auc = auc(fpr, tpr)\n",
    "plot_roc(fpr, tpr, roc_auc)"
   ]
  },
  {
   "cell_type": "code",
   "execution_count": 42,
   "metadata": {},
   "outputs": [
    {
     "data": {
      "text/plain": [
       "0.8131868131868132"
      ]
     },
     "execution_count": 42,
     "metadata": {},
     "output_type": "execute_result"
    }
   ],
   "source": [
    "roc_auc_score(mm_data_2017['team1_win'].values, mm_data_2017['preds'].values)"
   ]
  },
  {
   "cell_type": "code",
   "execution_count": 43,
   "metadata": {},
   "outputs": [
    {
     "data": {
      "text/plain": [
       "LogisticRegression(C=1.0, class_weight=None, dual=False, fit_intercept=True,\n",
       "          intercept_scaling=1, max_iter=100, multi_class='ovr', n_jobs=1,\n",
       "          penalty='l2', random_state=None, solver='liblinear', tol=0.0001,\n",
       "          verbose=0, warm_start=False)"
      ]
     },
     "execution_count": 43,
     "metadata": {},
     "output_type": "execute_result"
    }
   ],
   "source": [
    "scaler = StandardScaler()\n",
    "mm_train_scaled = scaler.fit_transform(mm_data_else[['team1_log5','diff_dist','seed_diff']])\n",
    "logit = LogisticRegression()\n",
    "logit.fit(mm_train_scaled, mm_data_else['team1_win'])"
   ]
  },
  {
   "cell_type": "code",
   "execution_count": 44,
   "metadata": {},
   "outputs": [
    {
     "name": "stdout",
     "output_type": "stream",
     "text": [
      "Optimization terminated successfully.\n",
      "         Current function value: 0.661471\n",
      "         Iterations 5\n"
     ]
    },
    {
     "data": {
      "text/html": [
       "<table class=\"simpletable\">\n",
       "<caption>Logit Regression Results</caption>\n",
       "<tr>\n",
       "  <th>Dep. Variable:</th>     <td>team1_win</td>    <th>  No. Observations:  </th>  <td>  1045</td>  \n",
       "</tr>\n",
       "<tr>\n",
       "  <th>Model:</th>               <td>Logit</td>      <th>  Df Residuals:      </th>  <td>  1042</td>  \n",
       "</tr>\n",
       "<tr>\n",
       "  <th>Method:</th>               <td>MLE</td>       <th>  Df Model:          </th>  <td>     2</td>  \n",
       "</tr>\n",
       "<tr>\n",
       "  <th>Date:</th>          <td>Thu, 28 Feb 2019</td> <th>  Pseudo R-squ.:     </th>  <td>0.04562</td> \n",
       "</tr>\n",
       "<tr>\n",
       "  <th>Time:</th>              <td>15:02:31</td>     <th>  Log-Likelihood:    </th> <td> -691.24</td> \n",
       "</tr>\n",
       "<tr>\n",
       "  <th>converged:</th>           <td>True</td>       <th>  LL-Null:           </th> <td> -724.28</td> \n",
       "</tr>\n",
       "<tr>\n",
       "  <th> </th>                      <td> </td>        <th>  LLR p-value:       </th> <td>4.462e-15</td>\n",
       "</tr>\n",
       "</table>\n",
       "<table class=\"simpletable\">\n",
       "<tr>\n",
       "       <td></td>         <th>coef</th>     <th>std err</th>      <th>z</th>      <th>P>|z|</th>  <th>[0.025</th>    <th>0.975]</th>  \n",
       "</tr>\n",
       "<tr>\n",
       "  <th>team1_log5</th> <td>    0.8452</td> <td>    0.132</td> <td>    6.392</td> <td> 0.000</td> <td>    0.586</td> <td>    1.104</td>\n",
       "</tr>\n",
       "<tr>\n",
       "  <th>diff_dist</th>  <td>   -0.0002</td> <td> 5.67e-05</td> <td>   -4.112</td> <td> 0.000</td> <td>   -0.000</td> <td>   -0.000</td>\n",
       "</tr>\n",
       "<tr>\n",
       "  <th>seed_diff</th>  <td>    0.0184</td> <td>    0.010</td> <td>    1.896</td> <td> 0.058</td> <td>   -0.001</td> <td>    0.037</td>\n",
       "</tr>\n",
       "</table>"
      ],
      "text/plain": [
       "<class 'statsmodels.iolib.summary.Summary'>\n",
       "\"\"\"\n",
       "                           Logit Regression Results                           \n",
       "==============================================================================\n",
       "Dep. Variable:              team1_win   No. Observations:                 1045\n",
       "Model:                          Logit   Df Residuals:                     1042\n",
       "Method:                           MLE   Df Model:                            2\n",
       "Date:                Thu, 28 Feb 2019   Pseudo R-squ.:                 0.04562\n",
       "Time:                        15:02:31   Log-Likelihood:                -691.24\n",
       "converged:                       True   LL-Null:                       -724.28\n",
       "                                        LLR p-value:                 4.462e-15\n",
       "==============================================================================\n",
       "                 coef    std err          z      P>|z|      [0.025      0.975]\n",
       "------------------------------------------------------------------------------\n",
       "team1_log5     0.8452      0.132      6.392      0.000       0.586       1.104\n",
       "diff_dist     -0.0002   5.67e-05     -4.112      0.000      -0.000      -0.000\n",
       "seed_diff      0.0184      0.010      1.896      0.058      -0.001       0.037\n",
       "==============================================================================\n",
       "\"\"\""
      ]
     },
     "execution_count": 44,
     "metadata": {},
     "output_type": "execute_result"
    }
   ],
   "source": [
    "smlogit = sm.Logit(mm_data_else['team1_win'], mm_data_else[['team1_log5','diff_dist','seed_diff']]).fit()\n",
    "smlogit.summary()"
   ]
  },
  {
   "cell_type": "code",
   "execution_count": 45,
   "metadata": {},
   "outputs": [],
   "source": [
    "mm_data_2017['preds'] = logit.predict_proba(scaler.fit_transform(mm_data_2017[['team1_log5','diff_dist','seed_diff']]))[:,1]\n",
    "mm_data_2017['prediction'] = logit.predict(scaler.fit_transform(mm_data_2017[['team1_log5','diff_dist','seed_diff']]))"
   ]
  },
  {
   "cell_type": "code",
   "execution_count": 46,
   "metadata": {},
   "outputs": [
    {
     "data": {
      "text/plain": [
       "0.7164179104477612"
      ]
     },
     "execution_count": 46,
     "metadata": {},
     "output_type": "execute_result"
    }
   ],
   "source": [
    "accuracy_score(mm_data_2017['team1_win'], mm_data_2017['prediction'],)"
   ]
  },
  {
   "cell_type": "code",
   "execution_count": 47,
   "metadata": {},
   "outputs": [
    {
     "data": {
      "text/plain": [
       "0.7941176470588235"
      ]
     },
     "execution_count": 47,
     "metadata": {},
     "output_type": "execute_result"
    }
   ],
   "source": [
    "precision_score(mm_data_2017['team1_win'], mm_data_2017['prediction'])"
   ]
  },
  {
   "cell_type": "code",
   "execution_count": 48,
   "metadata": {},
   "outputs": [
    {
     "data": {
      "text/plain": [
       "0.6923076923076923"
      ]
     },
     "execution_count": 48,
     "metadata": {},
     "output_type": "execute_result"
    }
   ],
   "source": [
    "recall_score(mm_data_2017['team1_win'], mm_data_2017['prediction'])"
   ]
  },
  {
   "cell_type": "code",
   "execution_count": 49,
   "metadata": {},
   "outputs": [
    {
     "data": {
      "text/plain": [
       "0.7397260273972601"
      ]
     },
     "execution_count": 49,
     "metadata": {},
     "output_type": "execute_result"
    }
   ],
   "source": [
    "f1_score(mm_data_2017['team1_win'], mm_data_2017['prediction'])"
   ]
  },
  {
   "cell_type": "code",
   "execution_count": 50,
   "metadata": {},
   "outputs": [
    {
     "data": {
      "text/plain": [
       "0.5284027630420873"
      ]
     },
     "execution_count": 50,
     "metadata": {},
     "output_type": "execute_result"
    }
   ],
   "source": [
    "log_loss(mm_data_2017['team1_win'].values, mm_data_2017['preds'].values)"
   ]
  },
  {
   "cell_type": "code",
   "execution_count": 51,
   "metadata": {},
   "outputs": [
    {
     "data": {
      "image/png": "[encoded data removed]",
      "text/plain": [
       "<Figure size 432x288 with 1 Axes>"
      ]
     },
     "metadata": {},
     "output_type": "display_data"
    }
   ],
   "source": [
    "fpr, tpr, thresholds = roc_curve(mm_data_2017['team1_win'].values, mm_data_2017['preds'].values)\n",
    "roc_auc = auc(fpr, tpr)\n",
    "plot_roc(fpr, tpr, roc_auc)"
   ]
  },
  {
   "cell_type": "code",
   "execution_count": 52,
   "metadata": {},
   "outputs": [
    {
     "data": {
      "text/plain": [
       "0.8095238095238095"
      ]
     },
     "execution_count": 52,
     "metadata": {},
     "output_type": "execute_result"
    }
   ],
   "source": [
    "roc_auc_score(mm_data_2017['team1_win'].values, mm_data_2017['preds'].values)"
   ]
  },
  {
   "cell_type": "code",
   "execution_count": 55,
   "metadata": {},
   "outputs": [],
   "source": [
    "predicted = mm_data_2017[['game_id','preds']]\n",
    "predicted.to_csv(\"predicted.csv\")\n",
    "predicted2 = mm_data_2018[['game_id','preds']]\n",
    "predicted2.to_csv(\"predicted2.csv\")"
   ]
  }
 ],
 "metadata": {
  "kernelspec": {
   "display_name": "Python 3",
   "language": "python",
   "name": "python3"
  },
  "language_info": {
   "codemirror_mode": {
    "name": "ipython",
    "version": 3
   },
   "file_extension": ".py",
   "mimetype": "text/x-python",
   "name": "python",
   "nbconvert_exporter": "python",
   "pygments_lexer": "ipython3",
   "version": "3.6.5"
  }
 },
 "nbformat": 4,
 "nbformat_minor": 2
}
